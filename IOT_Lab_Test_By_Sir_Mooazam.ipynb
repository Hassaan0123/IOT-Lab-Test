{
  "nbformat": 4,
  "nbformat_minor": 0,
  "metadata": {
    "colab": {
      "name": "IOT Lab Test By Sir Mooazam.ipynb",
      "provenance": [],
      "collapsed_sections": []
    },
    "kernelspec": {
      "name": "python3",
      "display_name": "Python 3"
    },
    "language_info": {
      "name": "python"
    }
  },
  "cells": [
    {
      "cell_type": "markdown",
      "source": [
        "Q1)Python program to print all odd numbers in a list."
      ],
      "metadata": {
        "id": "5vlWeZpZcJVR"
      }
    },
    {
      "cell_type": "code",
      "source": [
        "list1 = []\n",
        "for i in range(1,6):\n",
        "  list1.append(int(input(\"Enter: \")))\n",
        "  if i % 2 !=0:\n",
        "    print(\"Odd Number\")\n",
        "  else:\n",
        "    print(\"This Is Not Odd Number\")\n",
        "print(list1)"
      ],
      "metadata": {
        "colab": {
          "base_uri": "https://localhost:8080/"
        },
        "id": "PyuYfu1L_WW9",
        "outputId": "5d72b97b-de5f-40e0-e4e9-2f7c223e77cd"
      },
      "execution_count": 24,
      "outputs": [
        {
          "output_type": "stream",
          "name": "stdout",
          "text": [
            "Enter: 1\n",
            "Odd Number\n",
            "Enter: 2\n",
            "This Is Not Odd Number\n",
            "Enter: 3\n",
            "Odd Number\n",
            "Enter: 4\n",
            "This Is Not Odd Number\n",
            "Enter: 5\n",
            "Odd Number\n",
            "[1, 2, 3, 4, 5]\n"
          ]
        }
      ]
    },
    {
      "cell_type": "markdown",
      "source": [
        "Q2)Python program to find the sum of list element."
      ],
      "metadata": {
        "id": "fk5jjsgKcj_0"
      }
    },
    {
      "cell_type": "code",
      "source": [
        "numbers = []\n",
        "for i in range(0,5):\n",
        "  numbers.append(int(input(\"Enter:\")))\n",
        "print(numbers)\n",
        "print(\"Sum of all numbers are:\",sum(numbers))"
      ],
      "metadata": {
        "colab": {
          "base_uri": "https://localhost:8080/"
        },
        "id": "Kl4qXn9ivrPS",
        "outputId": "f01f3ccd-a2a5-4ade-978c-d5d8118b742b"
      },
      "execution_count": null,
      "outputs": [
        {
          "output_type": "stream",
          "name": "stdout",
          "text": [
            "Enter:1\n",
            "Enter:45\n",
            "Enter:67\n",
            "Enter:89\n",
            "Enter:34\n",
            "[1, 45, 67, 89, 34]\n",
            "Sum of all numbers are: 236\n"
          ]
        }
      ]
    },
    {
      "cell_type": "markdown",
      "source": [
        "Q3)Python program to reverse a list in two ways."
      ],
      "metadata": {
        "id": "HspGAWvYc2u8"
      }
    },
    {
      "cell_type": "code",
      "source": [
        "cars = []\n",
        "for i in range(0,5):\n",
        "  cars.append(input(\"Enter:\"))\n",
        "\n",
        "print(\"Before Reverse\")\n",
        "print(cars)\n",
        "print(\"After Reverse\")\n",
        "cars.sort(reverse=True)\n",
        "print(cars)\n",
        "print(\"Again Reverse\")\n",
        "cars = cars[::-1] \n",
        "print(cars)"
      ],
      "metadata": {
        "colab": {
          "base_uri": "https://localhost:8080/"
        },
        "id": "_5m7Z89fXyLi",
        "outputId": "2d64fd5c-f1c3-43c5-a672-6a4be3d8d939"
      },
      "execution_count": 6,
      "outputs": [
        {
          "output_type": "stream",
          "name": "stdout",
          "text": [
            "Enter:Honda\n",
            "Enter:Audi\n",
            "Enter:Suzuki\n",
            "Enter:Civic\n",
            "Enter:Toyota\n",
            "Before Reverse\n",
            "['Honda', 'Audi', 'Suzuki', 'Civic', 'Toyota']\n",
            "After Reverse\n",
            "['Toyota', 'Suzuki', 'Honda', 'Civic', 'Audi']\n",
            "Again Reverse\n",
            "['Audi', 'Civic', 'Honda', 'Suzuki', 'Toyota']\n"
          ]
        }
      ]
    },
    {
      "cell_type": "markdown",
      "source": [
        "Q4)Python program to find the top two maximum numbers in a list."
      ],
      "metadata": {
        "id": "pLiBFenQdD8z"
      }
    },
    {
      "cell_type": "code",
      "source": [
        "numbers = []\n",
        "for i in range(5):\n",
        "  numbers.append(int(input(\"Enter:\")))\n",
        "numbers.sort()\n",
        "print(numbers[-1])\n",
        "print(numbers[-2])\n",
        "\n",
        "print(numbers)"
      ],
      "metadata": {
        "id": "UoVpqLLCmaxe",
        "colab": {
          "base_uri": "https://localhost:8080/"
        },
        "outputId": "28b0c4a4-e650-4f87-a240-ff145f301c31"
      },
      "execution_count": 32,
      "outputs": [
        {
          "output_type": "stream",
          "name": "stdout",
          "text": [
            "Enter:4\n",
            "Enter:8\n",
            "Enter:2\n",
            "Enter:1\n",
            "Enter:5\n",
            "8\n",
            "5\n",
            "[1, 2, 4, 5, 8]\n"
          ]
        }
      ]
    },
    {
      "cell_type": "markdown",
      "source": [
        "Q5) Write a program in Python to find the second highest\n",
        "number in an integer list."
      ],
      "metadata": {
        "id": "RTJAeFiduemP"
      }
    },
    {
      "cell_type": "code",
      "source": [
        "Integer =[]\n",
        "for i in range(0,5):\n",
        "    Integer.append(int(input(\"Enter Number:\")))\n",
        "Integer.sort()\n",
        "print(\"Second largest element is:\",Integer[-2])"
      ],
      "metadata": {
        "colab": {
          "base_uri": "https://localhost:8080/"
        },
        "id": "a8kIIVtLLp5B",
        "outputId": "189ab3be-a932-4aef-f3a6-0c4c75a98c12"
      },
      "execution_count": null,
      "outputs": [
        {
          "output_type": "stream",
          "name": "stdout",
          "text": [
            "Enter Number:34\n",
            "Enter Number:23\n",
            "Enter Number:5\n",
            "Enter Number:50\n",
            "Enter Number:45\n",
            "Second largest element is: 45\n"
          ]
        }
      ]
    },
    {
      "cell_type": "markdown",
      "source": [
        "Q6) Python program to sort characters in descending order."
      ],
      "metadata": {
        "id": "8w3gDVWGmbim"
      }
    },
    {
      "cell_type": "code",
      "source": [
        "str1 = input(\"Enter The Name:\")\n",
        "print(str1[::-1])"
      ],
      "metadata": {
        "colab": {
          "base_uri": "https://localhost:8080/"
        },
        "id": "0TIj178X5BXn",
        "outputId": "7cdb88d4-1849-4aa7-b170-88dd967aaa82"
      },
      "execution_count": 9,
      "outputs": [
        {
          "output_type": "stream",
          "name": "stdout",
          "text": [
            "Enter The Name:Hassaan\n",
            "naassaH\n"
          ]
        }
      ]
    },
    {
      "cell_type": "markdown",
      "source": [
        "Q7) Python program to remove repeated characters from a string."
      ],
      "metadata": {
        "id": "BaDxC65RQpau"
      }
    },
    {
      "cell_type": "code",
      "source": [
        "str1 = input(\"Enter Any String:\")\n",
        "''.join(sorted(set(str1), key=str1.index))"
      ],
      "metadata": {
        "id": "cilblUoy52CJ",
        "colab": {
          "base_uri": "https://localhost:8080/",
          "height": 53
        },
        "outputId": "d72b02c1-fb9b-4385-c757-ca157f5e8df6"
      },
      "execution_count": null,
      "outputs": [
        {
          "name": "stdout",
          "output_type": "stream",
          "text": [
            "Enter Any String:exercise\n"
          ]
        },
        {
          "output_type": "execute_result",
          "data": {
            "text/plain": [
              "'exrcis'"
            ],
            "application/vnd.google.colaboratory.intrinsic+json": {
              "type": "string"
            }
          },
          "metadata": {},
          "execution_count": 46
        }
      ]
    },
    {
      "cell_type": "markdown",
      "source": [
        "Q8) Python program to check if a given character is a vowel or consonant."
      ],
      "metadata": {
        "id": "o7UiAyP4Qwyu"
      }
    },
    {
      "cell_type": "code",
      "source": [
        "str1 = input(\"Enter a alphabet : \")[0]\n",
        "if str1.lower() in \"aeiou\":\n",
        "    print(str1, \"is a vowel.\")\n",
        "else :\n",
        "    print(str1, \"is a consonant.\")"
      ],
      "metadata": {
        "colab": {
          "base_uri": "https://localhost:8080/"
        },
        "id": "_7d0EABoQ6sA",
        "outputId": "b187ce51-030f-4997-c563-9d88d2927271"
      },
      "execution_count": null,
      "outputs": [
        {
          "output_type": "stream",
          "name": "stdout",
          "text": [
            "Enter a alphabet : a\n",
            "a is a vowel.\n"
          ]
        }
      ]
    },
    {
      "cell_type": "markdown",
      "source": [
        "Q9) Python Program to calculate factorial."
      ],
      "metadata": {
        "id": "3ceyXu_EQ7Ow"
      }
    },
    {
      "cell_type": "code",
      "source": [
        "num = int(input(\"Enter a number: \"))    \n",
        "factorial = 1    \n",
        "if num < 0:    \n",
        "   print(\" Factorial does not exist for negative numbers\")    \n",
        "elif num == 0:    \n",
        "   print(\"The factorial of 0 is 1\")    \n",
        "else:    \n",
        "   for i in range(1,num + 1):    \n",
        "       factorial = factorial*i    \n",
        "   print(\"The factorial of\",num,\"is\",factorial)  "
      ],
      "metadata": {
        "colab": {
          "base_uri": "https://localhost:8080/"
        },
        "id": "Js3iokjFRApX",
        "outputId": "73171c28-8582-49b9-a251-14bad913f1a0"
      },
      "execution_count": null,
      "outputs": [
        {
          "output_type": "stream",
          "name": "stdout",
          "text": [
            "Enter a number: 5\n",
            "The factorial of 5 is 120\n"
          ]
        }
      ]
    },
    {
      "cell_type": "markdown",
      "source": [
        "Q10) Python Program to merge two lists."
      ],
      "metadata": {
        "id": "kN2aNF8kRBVY"
      }
    },
    {
      "cell_type": "code",
      "source": [
        "list1 = [1,2,3,4,5]\n",
        "list2 = [6,7,8,9,10]\n",
        "list3 = list1+list2\n",
        "print(list3)"
      ],
      "metadata": {
        "colab": {
          "base_uri": "https://localhost:8080/"
        },
        "id": "pjxGXXfNd6o8",
        "outputId": "ba66df2e-5e45-4636-f847-c4f5fcb1b898"
      },
      "execution_count": null,
      "outputs": [
        {
          "output_type": "stream",
          "name": "stdout",
          "text": [
            "[1, 2, 3, 4, 5, 6, 7, 8, 9, 10]\n"
          ]
        }
      ]
    }
  ]
}